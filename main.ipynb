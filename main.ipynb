{
 "cells": [
  {
   "cell_type": "code",
   "execution_count": 2,
   "metadata": {},
   "outputs": [
    {
     "name": "stdout",
     "output_type": "stream",
     "text": [
      "# Heading 1\n",
      "## Heading 2\n",
      "### Heading 3\n",
      "#### Heading 4\n",
      "##### Heading 5\n",
      "###### Heading 6\n",
      "- li\n",
      "1. number1\n",
      "```\n",
      "code\n",
      "```\n",
      "> Quote\n",
      "\n",
      "paragraph *italics* **bold**\n",
      "This is a long line that wraps. This is a long line that wraps. This is a long line that wraps. This is a long line that wraps. This is a long line that wraps. This is a long line that wraps. This is a long line that wraps. This is a long line that wraps. This is a long line that wraps.\n",
      "Level 1\n",
      "    Level 2\n",
      "        Level 3\n",
      "text [link](externallink.com) text\n",
      "[[Page]]\n",
      "[link](externallink.com)\n",
      "![[Imagefile]]\n"
     ]
    }
   ],
   "source": [
    "with open('test.md', 'r') as file:\n",
    "    content = file.read()\n",
    "\n",
    "print(content)"
   ]
  },
  {
   "cell_type": "code",
   "execution_count": 3,
   "metadata": {},
   "outputs": [],
   "source": [
    "class Website:\n",
    "    def __init__(self):\n",
    "        self.pages = []\n",
    "        self.base_path = ''"
   ]
  },
  {
   "cell_type": "code",
   "execution_count": 4,
   "metadata": {},
   "outputs": [],
   "source": [
    "class MD_to_HTML:\n",
    "    def __init__(self):\n",
    "        self.content = []\n",
    "        self.tags = []"
   ]
  },
  {
   "cell_type": "code",
   "execution_count": 6,
   "metadata": {},
   "outputs": [
    {
     "name": "stdout",
     "output_type": "stream",
     "text": [
      "['#', ' ', 'H', 'e', 'a', 'd', 'i', 'n', 'g', ' ', '1']\n",
      "['#', '#', ' ', 'H', 'e', 'a', 'd', 'i', 'n', 'g', ' ', '2']\n",
      "['#', '#', '#', ' ', 'H', 'e', 'a', 'd', 'i', 'n', 'g', ' ', '3']\n",
      "['#', '#', '#', '#', ' ', 'H', 'e', 'a', 'd', 'i', 'n', 'g', ' ', '4']\n",
      "['#', '#', '#', '#', '#', ' ', 'H', 'e', 'a', 'd', 'i', 'n', 'g', ' ', '5']\n",
      "['#', '#', '#', '#', '#', '#', ' ', 'H', 'e', 'a', 'd', 'i', 'n', 'g', ' ', '6']\n",
      "['-', ' ', 'l', 'i']\n",
      "['1', '.', ' ', 'n', 'u', 'm', 'b', 'e', 'r', '1']\n",
      "['`', '`', '`']\n",
      "['c', 'o', 'd', 'e']\n",
      "['`', '`', '`']\n",
      "['>', ' ', 'Q', 'u', 'o', 't', 'e']\n",
      "[]\n",
      "['p', 'a', 'r', 'a', 'g', 'r', 'a', 'p', 'h', ' ', '*', 'i', 't', 'a', 'l', 'i', 'c', 's', '*', ' ', '*', '*', 'b', 'o', 'l', 'd', '*', '*']\n",
      "['T', 'h', 'i', 's', ' ', 'i', 's', ' ', 'a', ' ', 'l', 'o', 'n', 'g', ' ', 'l', 'i', 'n', 'e', ' ', 't', 'h', 'a', 't', ' ', 'w', 'r', 'a', 'p', 's', '.', ' ', 'T', 'h', 'i', 's', ' ', 'i', 's', ' ', 'a', ' ', 'l', 'o', 'n', 'g', ' ', 'l', 'i', 'n', 'e', ' ', 't', 'h', 'a', 't', ' ', 'w', 'r', 'a', 'p', 's', '.', ' ', 'T', 'h', 'i', 's', ' ', 'i', 's', ' ', 'a', ' ', 'l', 'o', 'n', 'g', ' ', 'l', 'i', 'n', 'e', ' ', 't', 'h', 'a', 't', ' ', 'w', 'r', 'a', 'p', 's', '.', ' ', 'T', 'h', 'i', 's', ' ', 'i', 's', ' ', 'a', ' ', 'l', 'o', 'n', 'g', ' ', 'l', 'i', 'n', 'e', ' ', 't', 'h', 'a', 't', ' ', 'w', 'r', 'a', 'p', 's', '.', ' ', 'T', 'h', 'i', 's', ' ', 'i', 's', ' ', 'a', ' ', 'l', 'o', 'n', 'g', ' ', 'l', 'i', 'n', 'e', ' ', 't', 'h', 'a', 't', ' ', 'w', 'r', 'a', 'p', 's', '.', ' ', 'T', 'h', 'i', 's', ' ', 'i', 's', ' ', 'a', ' ', 'l', 'o', 'n', 'g', ' ', 'l', 'i', 'n', 'e', ' ', 't', 'h', 'a', 't', ' ', 'w', 'r', 'a', 'p', 's', '.', ' ', 'T', 'h', 'i', 's', ' ', 'i', 's', ' ', 'a', ' ', 'l', 'o', 'n', 'g', ' ', 'l', 'i', 'n', 'e', ' ', 't', 'h', 'a', 't', ' ', 'w', 'r', 'a', 'p', 's', '.', ' ', 'T', 'h', 'i', 's', ' ', 'i', 's', ' ', 'a', ' ', 'l', 'o', 'n', 'g', ' ', 'l', 'i', 'n', 'e', ' ', 't', 'h', 'a', 't', ' ', 'w', 'r', 'a', 'p', 's', '.', ' ', 'T', 'h', 'i', 's', ' ', 'i', 's', ' ', 'a', ' ', 'l', 'o', 'n', 'g', ' ', 'l', 'i', 'n', 'e', ' ', 't', 'h', 'a', 't', ' ', 'w', 'r', 'a', 'p', 's', '.']\n",
      "['L', 'e', 'v', 'e', 'l', ' ', '1']\n",
      "[' ', ' ', ' ', ' ', 'L', 'e', 'v', 'e', 'l', ' ', '2']\n",
      "[' ', ' ', ' ', ' ', ' ', ' ', ' ', ' ', 'L', 'e', 'v', 'e', 'l', ' ', '3']\n",
      "['t', 'e', 'x', 't', ' ', '[', 'l', 'i', 'n', 'k', ']', '(', 'e', 'x', 't', 'e', 'r', 'n', 'a', 'l', 'l', 'i', 'n', 'k', '.', 'c', 'o', 'm', ')', ' ', 't', 'e', 'x', 't']\n",
      "['[', '[', 'P', 'a', 'g', 'e', ']', ']']\n",
      "['[', 'l', 'i', 'n', 'k', ']', '(', 'e', 'x', 't', 'e', 'r', 'n', 'a', 'l', 'l', 'i', 'n', 'k', '.', 'c', 'o', 'm', ')']\n",
      "['!', '[', '[', 'I', 'm', 'a', 'g', 'e', 'f', 'i', 'l', 'e', ']', ']']\n"
     ]
    }
   ],
   "source": [
    "lines = content.split('\\n')\n",
    "for line in lines:\n",
    "    line = [char for char in line]\n",
    "    print(line)"
   ]
  },
  {
   "cell_type": "code",
   "execution_count": 5,
   "metadata": {},
   "outputs": [
    {
     "name": "stdout",
     "output_type": "stream",
     "text": [
      "True\n",
      "True\n",
      "True\n",
      "True\n",
      "True\n",
      "True\n",
      "False\n",
      "False\n",
      "False\n",
      "False\n",
      "False\n",
      "False\n"
     ]
    },
    {
     "ename": "IndexError",
     "evalue": "list index out of range",
     "output_type": "error",
     "traceback": [
      "\u001b[0;31m---------------------------------------------------------------------------\u001b[0m",
      "\u001b[0;31mIndexError\u001b[0m                                Traceback (most recent call last)",
      "Cell \u001b[0;32mIn[5], line 6\u001b[0m\n\u001b[1;32m      4\u001b[0m     \u001b[38;5;66;03m# Idenitify if in appearance block\u001b[39;00m\n\u001b[1;32m      5\u001b[0m     prefixes \u001b[38;5;241m=\u001b[39m [\u001b[38;5;124m'\u001b[39m\u001b[38;5;124m#\u001b[39m\u001b[38;5;124m'\u001b[39m, \u001b[38;5;124m'\u001b[39m\u001b[38;5;124m-\u001b[39m\u001b[38;5;124m'\u001b[39m, \u001b[38;5;124m'\u001b[39m\u001b[38;5;124m1\u001b[39m\u001b[38;5;124m'\u001b[39m, \u001b[38;5;124m'\u001b[39m\u001b[38;5;124m`\u001b[39m\u001b[38;5;124m'\u001b[39m, \u001b[38;5;124m'\u001b[39m\u001b[38;5;124m>\u001b[39m\u001b[38;5;124m'\u001b[39m]\n\u001b[0;32m----> 6\u001b[0m     \u001b[38;5;28mprint\u001b[39m(\u001b[38;5;124m'\u001b[39m\u001b[38;5;124m#\u001b[39m\u001b[38;5;124m'\u001b[39m \u001b[38;5;129;01min\u001b[39;00m \u001b[43mline\u001b[49m\u001b[43m[\u001b[49m\u001b[38;5;241;43m0\u001b[39;49m\u001b[43m]\u001b[49m)\n\u001b[1;32m      7\u001b[0m     \u001b[38;5;66;03m# Plain blocks\u001b[39;00m\n\u001b[1;32m      8\u001b[0m \u001b[38;5;66;03m#def check_header(i):\u001b[39;00m\n\u001b[1;32m      9\u001b[0m     \u001b[38;5;66;03m#if line[i] == '#' and line[i+1] == ' ':\u001b[39;00m\n\u001b[0;32m   (...)\u001b[0m\n\u001b[1;32m     13\u001b[0m     \u001b[38;5;66;03m#    print()\u001b[39;00m\n\u001b[1;32m     14\u001b[0m     \u001b[38;5;66;03m#    check_header(i+1)\u001b[39;00m\n",
      "\u001b[0;31mIndexError\u001b[0m: list index out of range"
     ]
    }
   ],
   "source": [
    "def parse_md_file():\n",
    "lines = content.split('\\n')\n",
    "for line in lines:\n",
    "    line = [char for char in line]\n",
    "    if len(line) == 0:\n",
    "        # Add break to page\n",
    "    # Idenitify if in appearance block\n",
    "    prefixes = ['#', '-', '1', '`', '>']\n",
    "    print('#' in line[0])\n",
    "    # Plain blocks\n",
    "#def check_header(i):\n",
    "    #if line[i] == '#' and line[i+1] == ' ':\n",
    "        # Append hi to tags\n",
    "        # Append line[i+2:] to content\n",
    "    #else:\n",
    "    #    print()\n",
    "    #    check_header(i+1)"
   ]
  },
  {
   "cell_type": "code",
   "execution_count": null,
   "metadata": {},
   "outputs": [],
   "source": []
  }
 ],
 "metadata": {
  "kernelspec": {
   "display_name": ".venv",
   "language": "python",
   "name": "python3"
  },
  "language_info": {
   "codemirror_mode": {
    "name": "ipython",
    "version": 3
   },
   "file_extension": ".py",
   "mimetype": "text/x-python",
   "name": "python",
   "nbconvert_exporter": "python",
   "pygments_lexer": "ipython3",
   "version": "3.10.12"
  }
 },
 "nbformat": 4,
 "nbformat_minor": 2
}
