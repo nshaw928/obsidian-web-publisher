{
 "cells": [
  {
   "cell_type": "code",
   "execution_count": 11,
   "metadata": {},
   "outputs": [
    {
     "name": "stdout",
     "output_type": "stream",
     "text": [
      "# Heading 1\n",
      "## Heading 2\n",
      "### Heading 3\n",
      "#### Heading 4\n",
      "##### Heading 5\n",
      "###### Heading 6\n",
      "- li\n",
      "1. number1\n",
      "```\n",
      "code\n",
      "```\n",
      "> Quote\n",
      "\n",
      "paragraph *italics* **bold**\n",
      "This is a long line that wraps. This is a long line that wraps. This is a long line that wraps. This is a long line that wraps. This is a long line that wraps. This is a long line that wraps. This is a long line that wraps. This is a long line that wraps. This is a long line that wraps.\n",
      "Level 1\n",
      "    Level 2\n",
      "        Level 3\n",
      "text [link](externallink.com) text\n",
      "[[Page]]\n",
      "[link](externallink.com)\n",
      "![[Imagefile]]\n"
     ]
    }
   ],
   "source": [
    "with open('test.md', 'r') as file:\n",
    "    content = file.read()\n",
    "\n",
    "print(content)"
   ]
  },
  {
   "cell_type": "code",
   "execution_count": 12,
   "metadata": {},
   "outputs": [],
   "source": [
    "class Website:\n",
    "    def __init__(self):\n",
    "        self.pages = []\n",
    "        self.base_path = ''"
   ]
  },
  {
   "cell_type": "code",
   "execution_count": 13,
   "metadata": {},
   "outputs": [],
   "source": [
    "class Page:\n",
    "    def __init__(self):\n",
    "        self.content = []\n",
    "        self.tags = []"
   ]
  },
  {
   "cell_type": "code",
   "execution_count": 15,
   "metadata": {},
   "outputs": [
    {
     "name": "stdout",
     "output_type": "stream",
     "text": [
      "['#', ' ', 'H', 'e', 'a', 'd', 'i', 'n', 'g', ' ', '1']\n",
      "['#', '#', ' ', 'H', 'e', 'a', 'd', 'i', 'n', 'g', ' ', '2']\n",
      "['#', '#', '#', ' ', 'H', 'e', 'a', 'd', 'i', 'n', 'g', ' ', '3']\n",
      "['#', '#', '#', '#', ' ', 'H', 'e', 'a', 'd', 'i', 'n', 'g', ' ', '4']\n",
      "['#', '#', '#', '#', '#', ' ', 'H', 'e', 'a', 'd', 'i', 'n', 'g', ' ', '5']\n",
      "['#', '#', '#', '#', '#', '#', ' ', 'H', 'e', 'a', 'd', 'i', 'n', 'g', ' ', '6']\n",
      "['-', ' ', 'l', 'i']\n",
      "['1', '.', ' ', 'n', 'u', 'm', 'b', 'e', 'r', '1']\n",
      "['`', '`', '`']\n",
      "['c', 'o', 'd', 'e']\n",
      "['`', '`', '`']\n",
      "['>', ' ', 'Q', 'u', 'o', 't', 'e']\n",
      "[]\n",
      "['p', 'a', 'r', 'a', 'g', 'r', 'a', 'p', 'h', ' ', '*', 'i', 't', 'a', 'l', 'i', 'c', 's', '*', ' ', '*', '*', 'b', 'o', 'l', 'd', '*', '*']\n",
      "['T', 'h', 'i', 's', ' ', 'i', 's', ' ', 'a', ' ', 'l', 'o', 'n', 'g', ' ', 'l', 'i', 'n', 'e', ' ', 't', 'h', 'a', 't', ' ', 'w', 'r', 'a', 'p', 's', '.', ' ', 'T', 'h', 'i', 's', ' ', 'i', 's', ' ', 'a', ' ', 'l', 'o', 'n', 'g', ' ', 'l', 'i', 'n', 'e', ' ', 't', 'h', 'a', 't', ' ', 'w', 'r', 'a', 'p', 's', '.', ' ', 'T', 'h', 'i', 's', ' ', 'i', 's', ' ', 'a', ' ', 'l', 'o', 'n', 'g', ' ', 'l', 'i', 'n', 'e', ' ', 't', 'h', 'a', 't', ' ', 'w', 'r', 'a', 'p', 's', '.', ' ', 'T', 'h', 'i', 's', ' ', 'i', 's', ' ', 'a', ' ', 'l', 'o', 'n', 'g', ' ', 'l', 'i', 'n', 'e', ' ', 't', 'h', 'a', 't', ' ', 'w', 'r', 'a', 'p', 's', '.', ' ', 'T', 'h', 'i', 's', ' ', 'i', 's', ' ', 'a', ' ', 'l', 'o', 'n', 'g', ' ', 'l', 'i', 'n', 'e', ' ', 't', 'h', 'a', 't', ' ', 'w', 'r', 'a', 'p', 's', '.', ' ', 'T', 'h', 'i', 's', ' ', 'i', 's', ' ', 'a', ' ', 'l', 'o', 'n', 'g', ' ', 'l', 'i', 'n', 'e', ' ', 't', 'h', 'a', 't', ' ', 'w', 'r', 'a', 'p', 's', '.', ' ', 'T', 'h', 'i', 's', ' ', 'i', 's', ' ', 'a', ' ', 'l', 'o', 'n', 'g', ' ', 'l', 'i', 'n', 'e', ' ', 't', 'h', 'a', 't', ' ', 'w', 'r', 'a', 'p', 's', '.', ' ', 'T', 'h', 'i', 's', ' ', 'i', 's', ' ', 'a', ' ', 'l', 'o', 'n', 'g', ' ', 'l', 'i', 'n', 'e', ' ', 't', 'h', 'a', 't', ' ', 'w', 'r', 'a', 'p', 's', '.', ' ', 'T', 'h', 'i', 's', ' ', 'i', 's', ' ', 'a', ' ', 'l', 'o', 'n', 'g', ' ', 'l', 'i', 'n', 'e', ' ', 't', 'h', 'a', 't', ' ', 'w', 'r', 'a', 'p', 's', '.']\n",
      "['L', 'e', 'v', 'e', 'l', ' ', '1']\n",
      "[' ', ' ', ' ', ' ', 'L', 'e', 'v', 'e', 'l', ' ', '2']\n",
      "[' ', ' ', ' ', ' ', ' ', ' ', ' ', ' ', 'L', 'e', 'v', 'e', 'l', ' ', '3']\n",
      "['t', 'e', 'x', 't', ' ', '[', 'l', 'i', 'n', 'k', ']', '(', 'e', 'x', 't', 'e', 'r', 'n', 'a', 'l', 'l', 'i', 'n', 'k', '.', 'c', 'o', 'm', ')', ' ', 't', 'e', 'x', 't']\n",
      "['[', '[', 'P', 'a', 'g', 'e', ']', ']']\n",
      "['[', 'l', 'i', 'n', 'k', ']', '(', 'e', 'x', 't', 'e', 'r', 'n', 'a', 'l', 'l', 'i', 'n', 'k', '.', 'c', 'o', 'm', ')']\n",
      "['!', '[', '[', 'I', 'm', 'a', 'g', 'e', 'f', 'i', 'l', 'e', ']', ']']\n"
     ]
    }
   ],
   "source": [
    "lines = content.split('\\n')\n",
    "for line in lines:\n",
    "    line = [char for char in line]\n",
    "    # Idenitify if in appearance block\n",
    "def check_header(i):\n",
    "    if line[i] == '#' and line[i+1] == ' ':\n",
    "        # Append hi to tags\n",
    "        # Append line[i+2:] to content\n",
    "    else:\n",
    "        print()\n",
    "        check_header(i+1)"
   ]
  },
  {
   "cell_type": "code",
   "execution_count": null,
   "metadata": {},
   "outputs": [],
   "source": []
  }
 ],
 "metadata": {
  "kernelspec": {
   "display_name": ".venv",
   "language": "python",
   "name": "python3"
  },
  "language_info": {
   "codemirror_mode": {
    "name": "ipython",
    "version": 3
   },
   "file_extension": ".py",
   "mimetype": "text/x-python",
   "name": "python",
   "nbconvert_exporter": "python",
   "pygments_lexer": "ipython3",
   "version": "3.12.4"
  }
 },
 "nbformat": 4,
 "nbformat_minor": 2
}
